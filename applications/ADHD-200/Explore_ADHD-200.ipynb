{
 "cells": [
  {
   "cell_type": "markdown",
   "id": "700d284e",
   "metadata": {},
   "source": [
    "# ADHD-200: Connectivity Dataset\n",
    "\n",
    "`Drew Wilimitis`<br>\n",
    "\n",
    "Data source: \"Riemannian geometry of functional connectivity matrices for multi-site attention-deficit/hyperactivity disorder data harmonization\" https://doi.org/10.1101/2021.09.01.458579"
   ]
  },
  {
   "cell_type": "markdown",
   "id": "d197ce99",
   "metadata": {},
   "source": [
    "**Overview & fMRI features**:<br>\n",
    "- 86 total patients labeled 0 (healthy) or 1 (patient has schizophrenia) <br>\n",
    "- Each individual has 379 Functional Network Connectivity (FNC) features, which are correlation values between 28 brain regions/maps of interest (ROI) <br>\n",
    "- We consider the 28 brain regions as nodes in a subject's connectivity graph, and we insert edge(region A, region B) if the corresponding FNC (correlation) is greater than some threshhold <br>\n",
    "- Each of the subjects has a unique network connectivity graph which we analyze in order to detect the presence of schizophrenia"
   ]
  },
  {
   "cell_type": "markdown",
   "id": "c4648a79",
   "metadata": {},
   "source": [
    "**Hyperbolic Geometry Approach:** <br>\n",
    "\n",
    "Given the extent to which real world networks often exhibit latent hyperbolic geometry, along with the plausibility of hierarchical relationships existing within the brain, we naturally attempt to investigate hyperbolic representations of our functional connectome data. \n",
    "\n",
    "We perform the following steps:<br>\n",
    "1. Prepare unweighted, undirected graphs for each subject with nodes as brain regions. <br>\n",
    "2. Apply Coalescent Embedding algorithm to embed each connectivity graph in the Poincare disk <br>\n",
    "3. Compute new pairwise connectivity features based on hyperbolic distances in the embedding space <br>\n",
    "4. Train classifier on hyperbolic features and compare predictive capacity to baseline, FNC correlation features"
   ]
  },
  {
   "cell_type": "markdown",
   "id": "a6b2fd2e",
   "metadata": {},
   "source": [
    "### Import libraries and load data"
   ]
  },
  {
   "cell_type": "code",
   "execution_count": 54,
   "id": "cd6b2f35",
   "metadata": {
    "ExecuteTime": {
     "end_time": "2022-01-05T05:14:38.770139Z",
     "start_time": "2022-01-05T05:14:38.758484Z"
    }
   },
   "outputs": [],
   "source": [
    "import numpy as np\n",
    "import pandas as pd\n",
    "%matplotlib inline\n",
    "import matplotlib.pyplot as plt\n",
    "plt.style.use('seaborn')\n",
    "import seaborn as sns\n",
    "import time\n",
    "import sys\n",
    "import os\n",
    "\n",
    "# import modules within repositoryhyperbolic_kmeans\n",
    "sys.path.append('/Users/drew/Desktop/hyperbolic-learning/hyperbolic_kmeans')  # path to hkmeans folder\n",
    "sys.path.append('/Users/drew/Desktop/hyperbolic-learning/utils') # path to utils folder\n",
    "from utils import *\n",
    "from hkmeans import HyperbolicKMeans, plot_clusters\n",
    "\n",
    "# ignore warnings\n",
    "import warnings\n",
    "warnings.filterwarnings('ignore');\n",
    "\n",
    "# display multiple outputs within a cell\n",
    "from IPython.core.interactiveshell import InteractiveShell\n",
    "InteractiveShell.ast_node_interactivity = \"all\";"
   ]
  },
  {
   "cell_type": "code",
   "execution_count": 55,
   "id": "5d5a6728",
   "metadata": {
    "ExecuteTime": {
     "end_time": "2022-01-05T05:14:39.787905Z",
     "start_time": "2022-01-05T05:14:39.780820Z"
    }
   },
   "outputs": [
    {
     "data": {
      "text/plain": [
       "'/Users/drew/Desktop/SPD_fMRI/applications/ADHD-200'"
      ]
     },
     "execution_count": 55,
     "metadata": {},
     "output_type": "execute_result"
    }
   ],
   "source": [
    "#os.chdir('../')\n",
    "#os.listdir(os.getcwd())\n",
    "#os.chdir('Applications')\n",
    "os.getcwd()"
   ]
  },
  {
   "cell_type": "code",
   "execution_count": 60,
   "id": "d1f71a36",
   "metadata": {
    "ExecuteTime": {
     "end_time": "2022-01-05T05:21:02.526967Z",
     "start_time": "2022-01-05T05:21:02.229366Z"
    }
   },
   "outputs": [
    {
     "data": {
      "text/plain": [
       "[(190, 190, 20),\n",
       " (190, 190, 20),\n",
       " (190, 190, 20),\n",
       " (190, 190, 20),\n",
       " (190, 190, 20),\n",
       " (190, 190, 20),\n",
       " (190, 190, 20),\n",
       " (190, 190, 20)]"
      ]
     },
     "execution_count": 60,
     "metadata": {},
     "output_type": "execute_result"
    },
    {
     "data": {
      "text/plain": [
       "['KK_adhd',\n",
       " 'KK_healthy',\n",
       " 'Neuro_healthy',\n",
       " 'Neuro_adhd',\n",
       " 'NYU_healthy',\n",
       " 'NYU_adhd',\n",
       " 'Peking_1_healthy',\n",
       " 'Peking_1_adhd']"
      ]
     },
     "execution_count": 60,
     "metadata": {},
     "output_type": "execute_result"
    }
   ],
   "source": [
    "import scipy.io\n",
    "mat_files = []\n",
    "conn_dict = {}\n",
    "for site in os.listdir('../../data/ADHD-200/sites/'):\n",
    "    subdir = '../../data/ADHD-200/sites/' + str(site) + '/'\n",
    "    for file in os.listdir(subdir):\n",
    "        fpath = subdir + file\n",
    "        mat = scipy.io.loadmat(fpath)\n",
    "        group = list(mat.keys())[-1]\n",
    "        data = mat[group]\n",
    "        mat_files.append(mat)\n",
    "        conn_dict[group] = np.array(data)\n",
    "\n",
    "groups = [list(mat.keys())[-1] for mat in mat_files]\n",
    "[np.shape(conn_dict[group]) for group in groups]\n",
    "groupsb"
   ]
  },
  {
   "cell_type": "code",
   "execution_count": 61,
   "id": "7117ebed",
   "metadata": {
    "ExecuteTime": {
     "end_time": "2022-01-05T06:44:00.416481Z",
     "start_time": "2022-01-05T06:44:00.378929Z"
    }
   },
   "outputs": [],
   "source": [
    "# ------ IMPORT LIBRARIES ------ #\n",
    "import numpy as np\n",
    "from scipy import linalg\n",
    "from scipy.stats import random_correlation\n",
    "import matplotlib.pyplot as plt\n",
    " \n",
    "# define random data\n",
    "rng = np.random.default_rng()\n",
    "x = random_correlation.rvs((.5, .8, 1.2, 1.5), random_state=rng)\n",
    "y = random_correlation.rvs((.2, .9, 1.1, 1.8), random_state=rng)\n",
    "\n",
    "# generating 10 random values for each of the two variables\n",
    "n = 50\n",
    "p = 30\n",
    "C_list = []\n",
    "\n",
    "# computing the corrlation matrices\n",
    "for i in range(n):\n",
    "    # first corr matrix\n",
    "    X1 = np.random.normal(-7, 1, p)\n",
    "    Y1 = np.random.normal(5, 1, p)\n",
    "    C1 = np.corrcoef(X1,Y1)\n",
    "    # second corr matrix\n",
    "    X2 = np.random.normal(3, 1.0, p)\n",
    "    Y2 = np.random.normal(8, 1.0, p)\n",
    "    C2 = np.corrcoef(X2,Y2)\n",
    "    # add as list of pairs to compare distances\n",
    "    C_list.append(np.array([C1, C2]))"
   ]
  },
  {
   "cell_type": "code",
   "execution_count": 62,
   "id": "ff46d37c",
   "metadata": {
    "ExecuteTime": {
     "end_time": "2022-01-05T06:44:02.630143Z",
     "start_time": "2022-01-05T06:44:02.623092Z"
    }
   },
   "outputs": [],
   "source": [
    "# --------------------------------------------------\n",
    "# ----- TEST CONDITIONS FOR SPD MATRICES -----------\n",
    "# --------------------------------------------------\n",
    "\n",
    "def is_spd(X, eps=1e-7):\n",
    "    \"\"\"Check matrix is symmetric & positive definite\"\"\"\n",
    "    # X: Input n x n matrix \n",
    "    # Check X = X^T and min eigenvalue > 0\n",
    "    if np.any(np.abs(X - X.T) > eps):\n",
    "        raise ValueError('Error: input matrix must be symmetric')\n",
    "    eigvals = linalg.eigvals(X)\n",
    "    if min(eigvals) <= 0:\n",
    "        raise ValueError('Error: input matrix has non-positive eigenvalue')\n",
    "    return True"
   ]
  },
  {
   "cell_type": "code",
   "execution_count": 63,
   "id": "aee6f70d",
   "metadata": {
    "ExecuteTime": {
     "end_time": "2022-01-05T06:44:07.040473Z",
     "start_time": "2022-01-05T06:44:07.033138Z"
    }
   },
   "outputs": [],
   "source": [
    "# --------------------------------------------------------\n",
    "# ----- HELPER DISTANCE/GEOMETRY FUNCTIONS on SPD(M) -----\n",
    "# --------------------------------------------------------\n",
    "\n",
    "# source: https://github.com/pyRiemann/pyRiemann/blob/master/pyriemann/utils/geodesic.py\n",
    "\n",
    "def distance_euclid(A, B):\n",
    "    r\"\"\"Euclidean distance between two covariance matrices A and B.\n",
    "    The Euclidean distance is defined by the Froebenius norm between the two\n",
    "    matrices.\n",
    "    .. math::\n",
    "        d = \\Vert \\mathbf{A} - \\mathbf{B} \\Vert_F\n",
    "    :param A: First covariance matrix\n",
    "    :param B: Second covariance matrix\n",
    "    :returns: Eclidean distance between A and B\n",
    "    \"\"\"\n",
    "    return np.linalg.norm(A - B, ord='fro')\n",
    "\n",
    "\n",
    "def distance_logeuclid(A, B):\n",
    "    r\"\"\"Log Euclidean distance between two covariance matrices A and B.\n",
    "    .. math::\n",
    "        d = \\Vert \\log(\\mathbf{A}) - \\log(\\mathbf{B}) \\Vert_F\n",
    "    :param A: First covariance matrix\n",
    "    :param B: Second covariance matrix\n",
    "    :returns: Log-Eclidean distance between A and B\n",
    "    \"\"\"\n",
    "    return distance_euclid(linalg.logm(A), linalg.logm(B))\n",
    "\n",
    "\n",
    "def distance_riemann(A, B):\n",
    "    r\"\"\"Riemannian distance between two covariance matrices A and B.\n",
    "    .. math::\n",
    "        d = {\\left( \\sum_i \\log(\\lambda_i)^2 \\right)}^{1/2}\n",
    "    where :math:`\\lambda_i` are the joint eigenvalues of A and B\n",
    "    :param A: First covariance matrix\n",
    "    :param B: Second covariance matrix\n",
    "    :returns: Riemannian distance between A and B\n",
    "    \"\"\"\n",
    "    return np.sqrt((np.log(linalg.eigvalsh(A, B))**2).sum())"
   ]
  },
  {
   "cell_type": "code",
   "execution_count": 64,
   "id": "c6899789",
   "metadata": {
    "ExecuteTime": {
     "end_time": "2022-01-05T06:45:00.667219Z",
     "start_time": "2022-01-05T06:45:00.309762Z"
    }
   },
   "outputs": [
    {
     "name": "stdout",
     "output_type": "stream",
     "text": [
      "True\n"
     ]
    },
    {
     "data": {
      "text/plain": [
       "<matplotlib.collections.PathCollection at 0x7fb700488a90>"
      ]
     },
     "execution_count": 64,
     "metadata": {},
     "output_type": "execute_result"
    },
    {
     "data": {
      "text/plain": [
       "(array([12., 12.,  4.,  3.,  9.,  3.,  2.,  1.,  1.,  3.]),\n",
       " array([0.00263313, 0.09144992, 0.18026671, 0.26908351, 0.3579003 ,\n",
       "        0.44671709, 0.53553388, 0.62435068, 0.71316747, 0.80198426,\n",
       "        0.89080105]),\n",
       " <BarContainer object of 10 artists>)"
      ]
     },
     "execution_count": 64,
     "metadata": {},
     "output_type": "execute_result"
    },
    {
     "data": {
      "text/plain": [
       "(array([12., 11.,  3.,  5.,  7.,  5.,  2.,  0.,  2.,  3.]),\n",
       " array([0.00250569, 0.08524928, 0.16799288, 0.25073647, 0.33348006,\n",
       "        0.41622366, 0.49896725, 0.58171085, 0.66445444, 0.74719803,\n",
       "        0.82994163]),\n",
       " <BarContainer object of 10 artists>)"
      ]
     },
     "execution_count": 64,
     "metadata": {},
     "output_type": "execute_result"
    },
    {
     "data": {
      "image/png": "[encoded data removed]",
      "text/plain": [
       "<Figure size 576x396 with 1 Axes>"
      ]
     },
     "metadata": {},
     "output_type": "display_data"
    }
   ],
   "source": [
    "# ----------------\n",
    "# -- TESTING -----\n",
    "# ----------------\n",
    "print(np.all([is_spd(c[0]) and is_spd(c[1]) for c in C_list]))\n",
    "riemann_dists = np.array([distance_riemann(c[0], c[1]) for c in C_list])\n",
    "logeuclid_dists = np.array([distance_logeuclid(c[0], c[1]) for c in C_list])\n",
    "euclid_dists = np.array([distance_euclid(c[0], c[1]) for c in C_list])\n",
    "plt.scatter(euclid_dists, riemann_dists)\n",
    "plt.hist(riemann_dists)\n",
    "plt.hist(euclid_dists)"
   ]
  },
  {
   "cell_type": "code",
   "execution_count": 109,
   "id": "757fb7e4",
   "metadata": {
    "ExecuteTime": {
     "end_time": "2022-01-05T07:06:10.776875Z",
     "start_time": "2022-01-05T07:06:10.592758Z"
    }
   },
   "outputs": [
    {
     "data": {
      "text/plain": [
       "0.7870509848522751"
      ]
     },
     "execution_count": 109,
     "metadata": {},
     "output_type": "execute_result"
    },
    {
     "data": {
      "text/plain": [
       "0.5372187890194755"
      ]
     },
     "execution_count": 109,
     "metadata": {},
     "output_type": "execute_result"
    },
    {
     "data": {
      "text/plain": [
       "0.6841865408017836"
      ]
     },
     "execution_count": 109,
     "metadata": {},
     "output_type": "execute_result"
    },
    {
     "data": {
      "text/plain": [
       "5.137507129493927"
      ]
     },
     "execution_count": 109,
     "metadata": {},
     "output_type": "execute_result"
    },
    {
     "data": {
      "text/plain": [
       "4.844251535919928"
      ]
     },
     "execution_count": 109,
     "metadata": {},
     "output_type": "execute_result"
    }
   ],
   "source": [
    "controls = conn_dict['KK_healthy']\n",
    "adhd = conn_dict['KK_adhd']\n",
    "n = controls.shape[2]\n",
    "\n",
    "np.std([distance_riemann(controls[:, :, i], controls[:, :, i+1]) for i in range(19)])\n",
    "np.std([distance_riemann(adhd[:, :, i], adhd[:, :, i+1]) for i in range(19)])\n",
    "np.std([distance_riemann(controls[:, :, i], adhd[:, :, i]) for i in range(19)])\n",
    "\n",
    "np.std([distance_euclid(controls[:, :, i], controls[:, :, i+1]) for i in range(19)])\n",
    "np.std([distance_euclid(adhd[:, :, i], adhd[:, :, i+1]) for i in range(19)])"
   ]
  },
  {
   "cell_type": "code",
   "execution_count": 98,
   "id": "84bb36f4",
   "metadata": {
    "ExecuteTime": {
     "end_time": "2022-01-05T07:02:20.017256Z",
     "start_time": "2022-01-05T07:02:19.830409Z"
    }
   },
   "outputs": [
    {
     "data": {
      "text/plain": [
       "0.5102986293715978"
      ]
     },
     "execution_count": 98,
     "metadata": {},
     "output_type": "execute_result"
    },
    {
     "data": {
      "text/plain": [
       "0.5909352403669937"
      ]
     },
     "execution_count": 98,
     "metadata": {},
     "output_type": "execute_result"
    },
    {
     "data": {
      "text/plain": [
       "0.5280377603029628"
      ]
     },
     "execution_count": 98,
     "metadata": {},
     "output_type": "execute_result"
    },
    {
     "data": {
      "text/plain": [
       "6.481624463359018"
      ]
     },
     "execution_count": 98,
     "metadata": {},
     "output_type": "execute_result"
    },
    {
     "data": {
      "text/plain": [
       "2.5361147507384856"
      ]
     },
     "execution_count": 98,
     "metadata": {},
     "output_type": "execute_result"
    }
   ],
   "source": [
    "controls = conn_dict['NYU_healthy']\n",
    "adhd = conn_dict['NYU_adhd']\n",
    "\n",
    "\n",
    "np.std([distance_riemann(controls[:, :, i], controls[:, :, i+1]) for i in range(19)])\n",
    "np.std([distance_riemann(adhd[:, :, i], adhd[:, :, i+1]) for i in range(19)])\n",
    "np.std([distance_riemann(controls[:, :, i], adhd[:, :, i]) for i in range(19)])\n",
    "\n",
    "np.std([distance_euclid(controls[:, :, i], controls[:, :, i+1]) for i in range(19)])\n",
    "np.std([distance_euclid(adhd[:, :, i], adhd[:, :, i+1]) for i in range(19)])"
   ]
  },
  {
   "cell_type": "code",
   "execution_count": null,
   "id": "77afd9a7",
   "metadata": {},
   "outputs": [],
   "source": []
  }
 ],
 "metadata": {
  "kernelspec": {
   "display_name": "Python 3 (ipykernel)",
   "language": "python",
   "name": "python3"
  },
  "language_info": {
   "codemirror_mode": {
    "name": "ipython",
    "version": 3
   },
   "file_extension": ".py",
   "mimetype": "text/x-python",
   "name": "python",
   "nbconvert_exporter": "python",
   "pygments_lexer": "ipython3",
   "version": "3.8.3"
  },
  "latex_envs": {
   "LaTeX_envs_menu_present": true,
   "autoclose": false,
   "autocomplete": true,
   "bibliofile": "biblio.bib",
   "cite_by": "apalike",
   "current_citInitial": 1,
   "eqLabelWithNumbers": true,
   "eqNumInitial": 1,
   "hotkeys": {
    "equation": "Ctrl-E",
    "itemize": "Ctrl-I"
   },
   "labels_anchors": false,
   "latex_user_defs": false,
   "report_style_numbering": false,
   "user_envs_cfg": false
  }
 },
 "nbformat": 4,
 "nbformat_minor": 5
}
